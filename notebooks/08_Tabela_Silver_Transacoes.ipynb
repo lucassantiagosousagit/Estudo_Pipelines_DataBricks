{
 "cells": [
  {
   "cell_type": "markdown",
   "metadata": {
    "application/vnd.databricks.v1+cell": {
     "cellMetadata": {
      "byteLimit": 2048000,
      "rowLimit": 10000
     },
     "inputWidgets": {},
     "nuid": "ef139cf0-3cc9-4dbe-943f-2f419f4766eb",
     "showTitle": false,
     "tableResultSettingsMap": {},
     "title": ""
    }
   },
   "source": [
    "### <font color='blue'>Automatizando o Pipeline de Consolidação, Limpeza e Enriquecimento de Dados no Databricks</font>"
   ]
  },
  {
   "cell_type": "markdown",
   "metadata": {
    "application/vnd.databricks.v1+cell": {
     "cellMetadata": {
      "byteLimit": 2048000,
      "rowLimit": 10000
     },
     "inputWidgets": {},
     "nuid": "d198f753-432e-4da9-837d-d670c113ca35",
     "showTitle": false,
     "tableResultSettingsMap": {},
     "title": ""
    }
   },
   "source": [
    "## Tabela Silver de Transações"
   ]
  },
  {
   "cell_type": "code",
   "execution_count": null,
   "metadata": {
    "application/vnd.databricks.v1+cell": {
     "cellMetadata": {
      "byteLimit": 2048000,
      "rowLimit": 10000
     },
     "inputWidgets": {},
     "nuid": "90c41b3d-5125-4c64-b64b-cc1be64f55be",
     "showTitle": false,
     "tableResultSettingsMap": {},
     "title": ""
    }
   },
   "outputs": [],
   "source": [
    "# Define o banco de dados que será usado\n",
    "spark.sql('use database dsa_db_02_staging')"
   ]
  },
  {
   "cell_type": "code",
   "execution_count": null,
   "metadata": {
    "application/vnd.databricks.v1+cell": {
     "cellMetadata": {
      "byteLimit": 2048000,
      "rowLimit": 10000
     },
     "inputWidgets": {},
     "nuid": "41808c81-663d-45c7-8b67-ef8ef3a229f1",
     "showTitle": false,
     "tableResultSettingsMap": {},
     "title": ""
    }
   },
   "outputs": [],
   "source": [
    "# Cria a tabela Silver\n",
    "spark.sql(\"\"\"\n",
    "          create table if not exists dsa_silver_transacoes(\n",
    "            transaction_id string,\n",
    "            customer_id integer,\n",
    "            product_id integer,\n",
    "            quantity integer,\n",
    "            total_amount double,\n",
    "            order_status string,\n",
    "            transaction_date string,\n",
    "            payment_method string,\n",
    "            store_type string,\n",
    "            last_updated_at timestamp\n",
    "          )\"\"\")"
   ]
  },
  {
   "cell_type": "code",
   "execution_count": null,
   "metadata": {
    "application/vnd.databricks.v1+cell": {
     "cellMetadata": {
      "byteLimit": 2048000,
      "rowLimit": 10000
     },
     "inputWidgets": {},
     "nuid": "d09c1fcb-c96b-40fa-8092-1ef041a860a6",
     "showTitle": false,
     "tableResultSettingsMap": {},
     "title": ""
    }
   },
   "outputs": [],
   "source": [
    "# Extrai a última data de atualização (a maior data)\n",
    "last_updated_df = spark.sql('select max(last_updated_at) as last_completed from dsa_silver_transacoes')"
   ]
  },
  {
   "cell_type": "code",
   "execution_count": null,
   "metadata": {
    "application/vnd.databricks.v1+cell": {
     "cellMetadata": {
      "byteLimit": 2048000,
      "rowLimit": 10000
     },
     "inputWidgets": {},
     "nuid": "57653fc8-5bb2-4a73-946f-1f567025f0f8",
     "showTitle": false,
     "tableResultSettingsMap": {},
     "title": ""
    }
   },
   "outputs": [],
   "source": [
    "# Extrai a data de atualização\n",
    "last_updated_time = last_updated_df.collect()[0]['last_completed']"
   ]
  },
  {
   "cell_type": "code",
   "execution_count": null,
   "metadata": {
    "application/vnd.databricks.v1+cell": {
     "cellMetadata": {
      "byteLimit": 2048000,
      "rowLimit": 10000
     },
     "inputWidgets": {},
     "nuid": "ec7e1925-2582-4d23-b08f-53d9ff6e9c88",
     "showTitle": false,
     "tableResultSettingsMap": {},
     "title": ""
    }
   },
   "outputs": [],
   "source": [
    "# Se não houver data de atualização, considera a data de 1900-01-01\n",
    "if last_updated_time is None:\n",
    "    last_updated_time = '1900-01-01T00:00:00.000+00:00'"
   ]
  },
  {
   "cell_type": "code",
   "execution_count": null,
   "metadata": {
    "application/vnd.databricks.v1+cell": {
     "cellMetadata": {
      "byteLimit": 2048000,
      "rowLimit": 10000
     },
     "inputWidgets": {},
     "nuid": "3e172c9a-5a69-43ac-9699-f3d643c933ef",
     "showTitle": false,
     "tableResultSettingsMap": {},
     "title": ""
    }
   },
   "outputs": [],
   "source": [
    "# Vamos criar uma view temporária a fim de verificar que o registro recebido na tabela bronze foi ou não processado para a tabela silver\n",
    "spark.sql(f\"\"\"\n",
    "          create or replace temporary view transacoes_incremental as\n",
    "          select * from dsa_db_01_inicial.dsa_bronze_transacoes as c where c.recebido_em  > '{last_updated_time}' \"\"\")"
   ]
  },
  {
   "cell_type": "code",
   "execution_count": null,
   "metadata": {
    "application/vnd.databricks.v1+cell": {
     "cellMetadata": {
      "byteLimit": 2048000,
      "rowLimit": 10000
     },
     "inputWidgets": {},
     "nuid": "fa5dfe51-f3da-464d-af2c-b29487bab190",
     "showTitle": false,
     "tableResultSettingsMap": {},
     "title": ""
    }
   },
   "outputs": [],
   "source": [
    "# Select\n",
    "spark.sql(\"select * from transacoes_incremental limit 10\").show()"
   ]
  },
  {
   "cell_type": "code",
   "execution_count": null,
   "metadata": {
    "application/vnd.databricks.v1+cell": {
     "cellMetadata": {
      "byteLimit": 2048000,
      "rowLimit": 10000
     },
     "inputWidgets": {},
     "nuid": "8343023c-e46f-4dfc-a34a-050f6fbad3a5",
     "showTitle": false,
     "tableResultSettingsMap": {},
     "title": ""
    }
   },
   "outputs": [],
   "source": [
    "# Select count\n",
    "spark.sql(\"select count(*) from transacoes_incremental\").show()"
   ]
  },
  {
   "cell_type": "code",
   "execution_count": null,
   "metadata": {
    "application/vnd.databricks.v1+cell": {
     "cellMetadata": {
      "byteLimit": 2048000,
      "rowLimit": 10000
     },
     "inputWidgets": {},
     "nuid": "0727f733-fcea-437c-a0be-8376250062d2",
     "showTitle": false,
     "tableResultSettingsMap": {},
     "title": ""
    }
   },
   "outputs": [],
   "source": [
    "# Vamos criar uma view temporária onde id de transação, de cliente e de produto não seja nulo e a data de transação menor que a data corrente\n",
    "spark.sql(\"\"\"\n",
    "          create or replace temporary view vw_silver_transacoes_incremental as\n",
    "          select \n",
    "          transaction_id,\n",
    "          customer_id,\n",
    "          product_id,\n",
    "          case \n",
    "            when quantity < 0 then 0\n",
    "            else quantity\n",
    "          end as quantity,\n",
    "          case \n",
    "            when total_amount < 0 then 0\n",
    "            else total_amount\n",
    "          end as total_amount,\n",
    "          case\n",
    "            when transaction_date is not null then to_date(transaction_date, 'yyyy-MM-dd')\n",
    "            else null\n",
    "          end as transaction_date,\n",
    "          case \n",
    "            when total_amount = 0 or quantity = 0 then 'Cancelled'\n",
    "            else 'Completed'\n",
    "          end as order_status,\n",
    "          case \n",
    "            when payment_method is not null then trim(payment_method)\n",
    "            else 'Unknown'\n",
    "          end as payment_method,\n",
    "          case \n",
    "            when store_type is not null then initcap(trim(store_type))\n",
    "            else 'Unknown'\n",
    "          end as store_type,\n",
    "          current_timestamp() as last_updated_at\n",
    "          from transacoes_incremental \n",
    "          where transaction_id is not null and \n",
    "          customer_id is not null and \n",
    "          product_id is not null and to_date(transaction_date, 'yyyy-MM-dd') <= current_date()\n",
    "          \"\"\")"
   ]
  },
  {
   "cell_type": "code",
   "execution_count": null,
   "metadata": {
    "application/vnd.databricks.v1+cell": {
     "cellMetadata": {
      "byteLimit": 2048000,
      "rowLimit": 10000
     },
     "inputWidgets": {},
     "nuid": "296366f6-b4ef-48bb-8153-30931c0cf506",
     "showTitle": false,
     "tableResultSettingsMap": {},
     "title": ""
    }
   },
   "outputs": [],
   "source": [
    "# Se a transação já existir, atualizamos, se não inserimos.\n",
    "spark.sql(\"\"\" \n",
    "          merge into dsa_silver_transacoes target\n",
    "          using vw_silver_transacoes_incremental source\n",
    "          on source.transaction_id = target.transaction_id\n",
    "          when matched then\n",
    "          update set *\n",
    "          when not matched then \n",
    "          insert *\"\"\")"
   ]
  },
  {
   "cell_type": "code",
   "execution_count": null,
   "metadata": {
    "application/vnd.databricks.v1+cell": {
     "cellMetadata": {
      "byteLimit": 2048000,
      "rowLimit": 10000
     },
     "inputWidgets": {},
     "nuid": "fab2e925-60b1-4a1f-b20f-a572208d914f",
     "showTitle": false,
     "tableResultSettingsMap": {},
     "title": ""
    }
   },
   "outputs": [],
   "source": [
    "# Contagem de registros\n",
    "spark.sql(\"select count(*) from dsa_silver_transacoes\").show()"
   ]
  },
  {
   "cell_type": "markdown",
   "metadata": {
    "application/vnd.databricks.v1+cell": {
     "cellMetadata": {
      "byteLimit": 2048000,
      "rowLimit": 10000
     },
     "inputWidgets": {},
     "nuid": "ffca5931-8f64-4207-981b-2818592f40c6",
     "showTitle": false,
     "tableResultSettingsMap": {},
     "title": ""
    }
   },
   "source": [
    "# Fim"
   ]
  }
 ],
 "metadata": {
  "application/vnd.databricks.v1+notebook": {
   "computePreferences": null,
   "dashboards": [],
   "environmentMetadata": {
    "base_environment": "",
    "environment_version": "1"
   },
   "language": "python",
   "notebookMetadata": {
    "pythonIndentUnit": 4
   },
   "notebookName": "DSA_08_Tabela_Silver_Transacoes",
   "widgets": {}
  },
  "kernelspec": {
   "display_name": "Python 3 (ipykernel)",
   "language": "python",
   "name": "python3"
  },
  "language_info": {
   "codemirror_mode": {
    "name": "ipython",
    "version": 3
   },
   "file_extension": ".py",
   "mimetype": "text/x-python",
   "name": "python",
   "nbconvert_exporter": "python",
   "pygments_lexer": "ipython3",
   "version": "3.12.7"
  }
 },
 "nbformat": 4,
 "nbformat_minor": 4
}
