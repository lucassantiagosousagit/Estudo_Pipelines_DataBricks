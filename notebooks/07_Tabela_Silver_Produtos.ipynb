{
 "cells": [
  {
   "cell_type": "markdown",
   "metadata": {
    "application/vnd.databricks.v1+cell": {
     "cellMetadata": {
      "byteLimit": 2048000,
      "rowLimit": 10000
     },
     "inputWidgets": {},
     "nuid": "48ac3ac0-907e-44e0-9dd3-586e7e0653df",
     "showTitle": false,
     "tableResultSettingsMap": {},
     "title": ""
    }
   },
   "source": [
    "### <font color='blue'>Automatizando o Pipeline de Consolidação, Limpeza e Enriquecimento de Dados no Databricks</font>"
   ]
  },
  {
   "cell_type": "markdown",
   "metadata": {
    "application/vnd.databricks.v1+cell": {
     "cellMetadata": {
      "byteLimit": 2048000,
      "rowLimit": 10000
     },
     "inputWidgets": {},
     "nuid": "5f506bcd-3eca-4967-90f5-208a8820a432",
     "showTitle": false,
     "tableResultSettingsMap": {},
     "title": ""
    }
   },
   "source": [
    "## Tabela Silver de Produtos"
   ]
  },
  {
   "cell_type": "code",
   "execution_count": null,
   "metadata": {
    "application/vnd.databricks.v1+cell": {
     "cellMetadata": {
      "byteLimit": 2048000,
      "rowLimit": 10000
     },
     "inputWidgets": {},
     "nuid": "ed56df65-434a-4a92-8fe3-c8be5c6eb626",
     "showTitle": false,
     "tableResultSettingsMap": {},
     "title": ""
    }
   },
   "outputs": [],
   "source": [
    "# Define o banco de dados que será usado\n",
    "spark.sql('use database dsa_db_02_staging')"
   ]
  },
  {
   "cell_type": "code",
   "execution_count": null,
   "metadata": {
    "application/vnd.databricks.v1+cell": {
     "cellMetadata": {
      "byteLimit": 2048000,
      "rowLimit": 10000
     },
     "inputWidgets": {},
     "nuid": "5402a5f8-7d09-4814-adb7-b2a8a961976c",
     "showTitle": false,
     "tableResultSettingsMap": {},
     "title": ""
    }
   },
   "outputs": [],
   "source": [
    "# Cria a tabela Silver\n",
    "spark.sql(\"\"\" create table if not exists dsa_silver_produtos (\n",
    "    brand string,\n",
    "    category string,\n",
    "    is_active boolean,\n",
    "    name string,\n",
    "    price double,\n",
    "    product_id long,\n",
    "    rating double,\n",
    "    stock_quantity string,\n",
    "    last_updated_at timestamp) \"\"\"\n",
    ")"
   ]
  },
  {
   "cell_type": "code",
   "execution_count": null,
   "metadata": {
    "application/vnd.databricks.v1+cell": {
     "cellMetadata": {
      "byteLimit": 2048000,
      "rowLimit": 10000
     },
     "inputWidgets": {},
     "nuid": "e4abf24b-32c5-4d07-afd5-4f3398a66a98",
     "showTitle": false,
     "tableResultSettingsMap": {},
     "title": ""
    }
   },
   "outputs": [],
   "source": [
    "# Extrai a última data de atualização (a maior data)\n",
    "last_updated_df = spark.sql('select max(last_updated_at) as last_completed from dsa_silver_produtos')"
   ]
  },
  {
   "cell_type": "code",
   "execution_count": null,
   "metadata": {
    "application/vnd.databricks.v1+cell": {
     "cellMetadata": {
      "byteLimit": 2048000,
      "rowLimit": 10000
     },
     "inputWidgets": {},
     "nuid": "c31b99f3-5235-47ed-88f1-17826844516a",
     "showTitle": false,
     "tableResultSettingsMap": {},
     "title": ""
    }
   },
   "outputs": [],
   "source": [
    "# Extrai a data de atualização\n",
    "last_updated_time = last_updated_df.collect()[0]['last_completed']"
   ]
  },
  {
   "cell_type": "code",
   "execution_count": null,
   "metadata": {
    "application/vnd.databricks.v1+cell": {
     "cellMetadata": {
      "byteLimit": 2048000,
      "rowLimit": 10000
     },
     "inputWidgets": {},
     "nuid": "a7e545f2-62c2-4c21-be2e-5b5890f4a4af",
     "showTitle": false,
     "tableResultSettingsMap": {},
     "title": ""
    }
   },
   "outputs": [],
   "source": [
    "# Se não houver data de atualização, considera a data de 1900-01-01\n",
    "if last_updated_time is None:\n",
    "    last_updated_time = '1900-01-01T00:00:00.000+00:00'"
   ]
  },
  {
   "cell_type": "code",
   "execution_count": null,
   "metadata": {
    "application/vnd.databricks.v1+cell": {
     "cellMetadata": {
      "byteLimit": 2048000,
      "rowLimit": 10000
     },
     "inputWidgets": {},
     "nuid": "cf4a8934-f344-41ab-8247-feff99547cbd",
     "showTitle": false,
     "tableResultSettingsMap": {},
     "title": ""
    }
   },
   "outputs": [],
   "source": [
    "# Vamos criar uma view temporária a fim de verificar que o registro recebido na tabela bronze foi ou não processado para a tabela silver\n",
    "spark.sql(f\"\"\"\n",
    "          create or replace temporary view produto_incremental as\n",
    "          select * from dsa_db_01_inicial.dsa_bronze_produtos as c where c.recebido_em  > '{last_updated_time}' \"\"\")"
   ]
  },
  {
   "cell_type": "code",
   "execution_count": null,
   "metadata": {
    "application/vnd.databricks.v1+cell": {
     "cellMetadata": {
      "byteLimit": 2048000,
      "rowLimit": 10000
     },
     "inputWidgets": {},
     "nuid": "c505b216-e421-4193-b304-58dbbfa3ab42",
     "showTitle": false,
     "tableResultSettingsMap": {},
     "title": ""
    }
   },
   "outputs": [],
   "source": [
    "# Select\n",
    "spark.sql(\"select *  from produto_incremental limit 10\").show()"
   ]
  },
  {
   "cell_type": "code",
   "execution_count": null,
   "metadata": {
    "application/vnd.databricks.v1+cell": {
     "cellMetadata": {
      "byteLimit": 2048000,
      "rowLimit": 10000
     },
     "inputWidgets": {},
     "nuid": "8d68f129-8bb2-4374-a409-4b0a64ed0e8b",
     "showTitle": false,
     "tableResultSettingsMap": {},
     "title": ""
    }
   },
   "outputs": [],
   "source": [
    "# Vamos criar uma view temporária somente para produtos com id e categoria\n",
    "spark.sql(\"\"\" \n",
    "          create or replace temporary view vw_silver_produtos_incremental as\n",
    "          select\n",
    "          case\n",
    "            when brand is not null then lower(trim(brand))\n",
    "            else 'Unknown'\n",
    "          end as brand,\n",
    "          case \n",
    "            when category is not null then initcap(trim(category))\n",
    "            else 'Unknown'\n",
    "          end as category,\n",
    "          is_active,\n",
    "          case \n",
    "            when name is not null then initcap(trim(name))\n",
    "            else 'Unknown'\n",
    "          end as name,\n",
    "          case\n",
    "            when price < 0 then 0\n",
    "            else price\n",
    "          end as price,\n",
    "          product_id,\n",
    "          case \n",
    "            when rating < 0 then 0\n",
    "            when rating > 5 then 5\n",
    "            else rating\n",
    "          end as rating,\n",
    "          case\n",
    "            when stock_quantity > 0 or stock_quantity is null  then coalesce(stock_quantity, 0)\n",
    "            else 0\n",
    "          end as stock_quantity,\n",
    "          current_timestamp() as last_updated_at \n",
    "          from produto_incremental\n",
    "          where product_id is not null and category is not null\n",
    "          \"\"\")"
   ]
  },
  {
   "cell_type": "code",
   "execution_count": null,
   "metadata": {
    "application/vnd.databricks.v1+cell": {
     "cellMetadata": {
      "byteLimit": 2048000,
      "rowLimit": 10000
     },
     "inputWidgets": {},
     "nuid": "1f3ec594-d1f1-421b-9839-d5f5a40c548d",
     "showTitle": false,
     "tableResultSettingsMap": {},
     "title": ""
    }
   },
   "outputs": [],
   "source": [
    "# Se o produto já havia sido inserido, atualizamos o registro.\n",
    "# Caso contrário, inserimos.\n",
    "spark.sql(\"\"\"\n",
    "          merge into dsa_silver_produtos target\n",
    "          using vw_silver_produtos_incremental source\n",
    "          on target.product_id = source.product_id\n",
    "          when matched then \n",
    "            update set *\n",
    "          when not matched then\n",
    "            insert *\n",
    "            \"\"\")"
   ]
  },
  {
   "cell_type": "code",
   "execution_count": null,
   "metadata": {
    "application/vnd.databricks.v1+cell": {
     "cellMetadata": {
      "byteLimit": 2048000,
      "rowLimit": 10000
     },
     "inputWidgets": {},
     "nuid": "ae83cc99-2d16-495a-a74f-f2729d6c5d17",
     "showTitle": false,
     "tableResultSettingsMap": {},
     "title": ""
    }
   },
   "outputs": [],
   "source": [
    "# Contagem de registros\n",
    "spark.sql(\" select count(*) from dsa_silver_produtos limit 10\").show()"
   ]
  }
 ],
 "metadata": {
  "application/vnd.databricks.v1+notebook": {
   "computePreferences": null,
   "dashboards": [],
   "environmentMetadata": {
    "base_environment": "",
    "environment_version": "1"
   },
   "language": "python",
   "notebookMetadata": {
    "pythonIndentUnit": 4
   },
   "notebookName": "DSA_07_Tabela_Silver_Produtos",
   "widgets": {}
  },
  "kernelspec": {
   "display_name": "Python 3 (ipykernel)",
   "language": "python",
   "name": "python3"
  },
  "language_info": {
   "codemirror_mode": {
    "name": "ipython",
    "version": 3
   },
   "file_extension": ".py",
   "mimetype": "text/x-python",
   "name": "python",
   "nbconvert_exporter": "python",
   "pygments_lexer": "ipython3",
   "version": "3.12.7"
  }
 },
 "nbformat": 4,
 "nbformat_minor": 4
}
