{
 "cells": [
  {
   "cell_type": "markdown",
   "metadata": {
    "application/vnd.databricks.v1+cell": {
     "cellMetadata": {
      "byteLimit": 2048000,
      "rowLimit": 10000
     },
     "inputWidgets": {},
     "nuid": "61b80961-d1d1-4f4b-aad6-36c3d171c1f2",
     "showTitle": false,
     "tableResultSettingsMap": {},
     "title": ""
    }
   },
   "source": [
    "### <font color='blue'>Automatizando o Pipeline de Consolidação, Limpeza e Enriquecimento de Dados no Databricks</font>"
   ]
  },
  {
   "cell_type": "markdown",
   "metadata": {
    "application/vnd.databricks.v1+cell": {
     "cellMetadata": {
      "byteLimit": 2048000,
      "rowLimit": 10000
     },
     "inputWidgets": {},
     "nuid": "621a576e-7f42-47b5-ba59-727fafde410b",
     "showTitle": false,
     "tableResultSettingsMap": {},
     "title": ""
    }
   },
   "source": [
    "## Tabela Silver de Clientes"
   ]
  },
  {
   "cell_type": "code",
   "execution_count": null,
   "metadata": {
    "application/vnd.databricks.v1+cell": {
     "cellMetadata": {
      "byteLimit": 2048000,
      "rowLimit": 10000
     },
     "inputWidgets": {},
     "nuid": "892d69d0-bf33-40d6-84b2-d90899e79352",
     "showTitle": false,
     "tableResultSettingsMap": {},
     "title": ""
    }
   },
   "outputs": [],
   "source": [
    "# Define o banco de dados que será usado\n",
    "spark.sql('use database dsa_db_02_staging')"
   ]
  },
  {
   "cell_type": "code",
   "execution_count": null,
   "metadata": {
    "application/vnd.databricks.v1+cell": {
     "cellMetadata": {
      "byteLimit": 2048000,
      "rowLimit": 10000
     },
     "inputWidgets": {},
     "nuid": "c919decb-ecf6-4dbc-95f1-c90f476f3dd6",
     "showTitle": false,
     "tableResultSettingsMap": {},
     "title": ""
    }
   },
   "outputs": [],
   "source": [
    "# Cria a tabela Silver\n",
    "spark.sql(\"\"\"create table if not exists dsa_silver_clientes(\n",
    "             customer_id integer,\n",
    "             name string,\n",
    "             email string,\n",
    "             country string,\n",
    "             customer_type string,\n",
    "             registration_date date,\n",
    "             age integer,\n",
    "             gender string,\n",
    "             total_purchases integer,\n",
    "             last_updated_at timestamp\n",
    "          )\"\"\")"
   ]
  },
  {
   "cell_type": "code",
   "execution_count": null,
   "metadata": {
    "application/vnd.databricks.v1+cell": {
     "cellMetadata": {
      "byteLimit": 2048000,
      "rowLimit": 10000
     },
     "inputWidgets": {},
     "nuid": "29b0a213-69b7-4782-b628-855e09bfa7c3",
     "showTitle": false,
     "tableResultSettingsMap": {},
     "title": ""
    }
   },
   "outputs": [],
   "source": [
    "# Extrai a última data de atualização (a maior data)\n",
    "last_updated_df = spark.sql('select max(last_updated_at) as last_completed from dsa_silver_clientes')"
   ]
  },
  {
   "cell_type": "code",
   "execution_count": null,
   "metadata": {
    "application/vnd.databricks.v1+cell": {
     "cellMetadata": {
      "byteLimit": 2048000,
      "rowLimit": 10000
     },
     "inputWidgets": {},
     "nuid": "91e80c6a-8a4e-411b-b874-5a76df0ee39c",
     "showTitle": false,
     "tableResultSettingsMap": {},
     "title": ""
    }
   },
   "outputs": [],
   "source": [
    "# Extrai a data de atualização\n",
    "last_updated_time = last_updated_df.collect()[0]['last_completed']"
   ]
  },
  {
   "cell_type": "code",
   "execution_count": null,
   "metadata": {
    "application/vnd.databricks.v1+cell": {
     "cellMetadata": {
      "byteLimit": 2048000,
      "rowLimit": 10000
     },
     "inputWidgets": {},
     "nuid": "516a9691-840d-4922-bc4e-6e1d4dab7526",
     "showTitle": false,
     "tableResultSettingsMap": {},
     "title": ""
    }
   },
   "outputs": [],
   "source": [
    "# Se não houver data de atualização, considera a data de 1900-01-01\n",
    "if last_updated_time is None:\n",
    "    last_updated_time = '1900-01-01T00:00:00.000+00:00'"
   ]
  },
  {
   "cell_type": "code",
   "execution_count": null,
   "metadata": {
    "application/vnd.databricks.v1+cell": {
     "cellMetadata": {
      "byteLimit": 2048000,
      "rowLimit": 10000
     },
     "inputWidgets": {},
     "nuid": "2a5d3987-9541-4c20-b522-c89defb6d0e7",
     "showTitle": false,
     "tableResultSettingsMap": {},
     "title": ""
    }
   },
   "outputs": [],
   "source": [
    "# Vamos criar uma view temporária a fim de verificar que o registro recebido na tabela bronze foi ou não processado para a tabela silver\n",
    "spark.sql(f\"\"\"\n",
    "          create or replace temporary view clientes_incremental as\n",
    "          select * from dsa_db_01_inicial.dsa_bronze_clientes as c where c.recebido_em  > '{last_updated_time}' \"\"\")"
   ]
  },
  {
   "cell_type": "code",
   "execution_count": null,
   "metadata": {
    "application/vnd.databricks.v1+cell": {
     "cellMetadata": {
      "byteLimit": 2048000,
      "rowLimit": 10000
     },
     "inputWidgets": {},
     "nuid": "243af2a5-ac76-4622-9503-b17394482964",
     "showTitle": false,
     "tableResultSettingsMap": {},
     "title": ""
    }
   },
   "outputs": [],
   "source": [
    "# Select\n",
    "spark.sql(\"select * from clientes_incremental limit 10\").show()"
   ]
  },
  {
   "cell_type": "code",
   "execution_count": null,
   "metadata": {
    "application/vnd.databricks.v1+cell": {
     "cellMetadata": {
      "byteLimit": 2048000,
      "rowLimit": 10000
     },
     "inputWidgets": {},
     "nuid": "f5e44ab8-3cda-41cf-966f-a08e39a079bd",
     "showTitle": false,
     "tableResultSettingsMap": {},
     "title": ""
    }
   },
   "outputs": [],
   "source": [
    "# Vamos criar uma view temporária somente para clientes que realizaram pelo menos uma compra\n",
    "spark.sql(\"\"\"\n",
    "          create or replace temporary view vw_silver_clientes_incremental as\n",
    "          select\n",
    "          customer_id,\n",
    "          case \n",
    "            when name is not null then initcap(trim(name))\n",
    "            else 'Unknown'\n",
    "          end as name,\n",
    "          case \n",
    "            when email is not null then lower(trim(email))\n",
    "            else null\n",
    "          end as email,\n",
    "          case \n",
    "            when country is not null then trim(country)\n",
    "            else 'Unknown'\n",
    "          end as country,\n",
    "          case \n",
    "            when customer_type in ('Regular','Premium','VIP') then customer_type\n",
    "            else 'Unknown'\n",
    "          end as customer_type,\n",
    "          registration_date,\n",
    "          case\n",
    "            when age between 18 and 100 then age\n",
    "            else null\n",
    "          end as age,\n",
    "          case\n",
    "            when gender in ('Male','Female','Other') then gender\n",
    "            else null\n",
    "          end as gender,\n",
    "          case \n",
    "            when total_purchases > 0  then total_purchases\n",
    "            else 0\n",
    "          end as total_purchases,\n",
    "          current_timestamp as last_updated_at\n",
    "          from clientes_incremental \n",
    "          where customer_id is not null and total_purchases > 0 and email is not null\"\"\")"
   ]
  },
  {
   "cell_type": "code",
   "execution_count": null,
   "metadata": {
    "application/vnd.databricks.v1+cell": {
     "cellMetadata": {
      "byteLimit": 2048000,
      "rowLimit": 10000
     },
     "inputWidgets": {},
     "nuid": "f9bbaefa-bb89-4e71-901e-1aeb7212e2df",
     "showTitle": false,
     "tableResultSettingsMap": {},
     "title": ""
    }
   },
   "outputs": [],
   "source": [
    "# Visualiza os dados\n",
    "display(spark.sql(\"select * from vw_silver_clientes_incremental limit 10\"))"
   ]
  },
  {
   "cell_type": "code",
   "execution_count": null,
   "metadata": {
    "application/vnd.databricks.v1+cell": {
     "cellMetadata": {
      "byteLimit": 2048000,
      "rowLimit": 10000
     },
     "inputWidgets": {},
     "nuid": "014f4a9f-024b-4441-aee1-ae74d3a9d112",
     "showTitle": false,
     "tableResultSettingsMap": {},
     "title": ""
    }
   },
   "outputs": [],
   "source": [
    "# Agora fazemos o merge.\n",
    "# Se o registro já havia sido processado, atualizamos as colunas.\n",
    "# Caso contrário, inserimos o novo registro.\n",
    "spark.sql(\"\"\"\n",
    "    MERGE INTO dsa_silver_clientes target\n",
    "    USING vw_silver_clientes_incremental source\n",
    "    ON target.customer_id = source.customer_id\n",
    "    WHEN MATCHED THEN \n",
    "        UPDATE SET \n",
    "            target.name = source.name,\n",
    "            target.email = source.email,\n",
    "            target.country = source.country,\n",
    "            target.customer_type = source.customer_type,\n",
    "            target.registration_date = source.registration_date,\n",
    "            target.age = source.age,\n",
    "            target.gender = source.gender,\n",
    "            target.total_purchases = source.total_purchases,\n",
    "            target.last_updated_at = source.last_updated_at\n",
    "    WHEN NOT MATCHED THEN \n",
    "        INSERT (customer_id, name, email, country, customer_type, registration_date, age, gender, total_purchases, last_updated_at)\n",
    "        VALUES (source.customer_id, source.name, source.email, source.country, source.customer_type,  source.registration_date, source.age, source.gender, source.total_purchases, source.last_updated_at)\n",
    "\"\"\")\n"
   ]
  },
  {
   "cell_type": "code",
   "execution_count": null,
   "metadata": {
    "application/vnd.databricks.v1+cell": {
     "cellMetadata": {
      "byteLimit": 2048000,
      "rowLimit": 10000
     },
     "inputWidgets": {},
     "nuid": "80445372-a734-4588-9f23-5e105c0a82d0",
     "showTitle": false,
     "tableResultSettingsMap": {},
     "title": ""
    }
   },
   "outputs": [],
   "source": [
    "spark.sql(\"select count(*) from dsa_silver_clientes\").show()"
   ]
  }
 ],
 "metadata": {
  "application/vnd.databricks.v1+notebook": {
   "computePreferences": null,
   "dashboards": [],
   "environmentMetadata": {
    "base_environment": "",
    "environment_version": "1"
   },
   "language": "python",
   "notebookMetadata": {
    "pythonIndentUnit": 4
   },
   "notebookName": "DSA_06_Tabela_Silver_Clientes",
   "widgets": {}
  },
  "kernelspec": {
   "display_name": "Python 3 (ipykernel)",
   "language": "python",
   "name": "python3"
  },
  "language_info": {
   "codemirror_mode": {
    "name": "ipython",
    "version": 3
   },
   "file_extension": ".py",
   "mimetype": "text/x-python",
   "name": "python",
   "nbconvert_exporter": "python",
   "pygments_lexer": "ipython3",
   "version": "3.12.7"
  }
 },
 "nbformat": 4,
 "nbformat_minor": 4
}
